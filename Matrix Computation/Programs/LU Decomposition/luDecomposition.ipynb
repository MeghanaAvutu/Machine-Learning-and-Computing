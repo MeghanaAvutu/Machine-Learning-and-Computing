{
 "cells": [
  {
   "cell_type": "markdown",
   "metadata": {},
   "source": [
    "<h1>LU Decomposition</h1>"
   ]
  },
  {
   "cell_type": "code",
   "execution_count": null,
   "metadata": {},
   "outputs": [],
   "source": [
    "try: np\n",
    "except NameError:\n",
    "    print(\"package is importing........\")\n",
    "    import numpy as np\n",
    "    print(\"package imported\")\n",
    "else:\n",
    "    print(\"package is already imported\")\n",
    "    \n",
    "def ludecompose(A):\n",
    "    n = A.shape[0]\n",
    "    factors = np.zeros([n,n])\n",
    "    for row in range(0,n-1):\n",
    "        for i in range(row+1,n):\n",
    "            factor = A[i,row]/A[row,row]\n",
    "            for j in range(row,n):\n",
    "                A[i,j] = A[i,j]-factor*A[row,j]\n",
    "                factors[i,j] = factor\n",
    "    return A,factors\n",
    "\n",
    "def lsolve(l, b):\n",
    "    n = l.shape[0]\n",
    "    y = np.zeros([n])\n",
    "    for i in range(len(l)):\n",
    "        y[i] = (b[i] - np.dot(y,l[i]))/float(l[i][i])\n",
    "    return y\n",
    "\n",
    "def usolve(A,b):\n",
    "    n=A.shape[0]\n",
    "    xcomp = np.zeros(n)\n",
    "    for i in range(n-1, -1, -1):\n",
    "        tmp = b[i]\n",
    "        for j in range(n-1, i, -1):\n",
    "            tmp -= xcomp[j]*A[i,j]\n",
    "        xcomp[i] = tmp/A[i,i]\n",
    "    return xcomp"
   ]
  },
  {
   "cell_type": "code",
   "execution_count": null,
   "metadata": {},
   "outputs": [],
   "source": [
    "A = np.matrix(\"4 12 -16; 12 37 -43; -16 -43 98\")\n",
    "b =  np.matrix('3; 13; 4')\n",
    "\n",
    "n = A.shape[0]\n",
    "\n",
    "decomposition = ludecompose(A)\n",
    "\n",
    "# Upper triangular matrix\n",
    "upper = decomposition[0]\n",
    "print(\"upper:\")\n",
    "print(upper)\n",
    "\n",
    "# Lower triangular matrix\n",
    "lower = np.copy(decomposition[1])\n",
    "for row in range(0,n):\n",
    "    for col in range(0,n):\n",
    "        if(row==col):\n",
    "            lower[row,col]=1\n",
    "        if(row<col):\n",
    "            lower[row,col]=0\n",
    "print(\"Lower:\")\n",
    "print(lower)"
   ]
  },
  {
   "cell_type": "code",
   "execution_count": null,
   "metadata": {},
   "outputs": [],
   "source": [
    "#solving Ly=b\n",
    "y = lsolve(lower,b)\n",
    "print(\"y = \",y)"
   ]
  },
  {
   "cell_type": "code",
   "execution_count": null,
   "metadata": {},
   "outputs": [],
   "source": [
    "#solving Ux=y\n",
    "x = usolve(upper,y)\n",
    "print(\"X =\",x)"
   ]
  }
 ],
 "metadata": {
  "kernelspec": {
   "display_name": "Python 3",
   "language": "python",
   "name": "python3"
  },
  "language_info": {
   "codemirror_mode": {
    "name": "ipython",
    "version": 3
   },
   "file_extension": ".py",
   "mimetype": "text/x-python",
   "name": "python",
   "nbconvert_exporter": "python",
   "pygments_lexer": "ipython3",
   "version": "3.7.3"
  }
 },
 "nbformat": 4,
 "nbformat_minor": 2
}
