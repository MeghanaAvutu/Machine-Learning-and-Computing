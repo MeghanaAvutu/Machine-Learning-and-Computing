{
 "cells": [
  {
   "cell_type": "code",
   "execution_count": null,
   "metadata": {},
   "outputs": [],
   "source": [
    "<h1>Cholesky</h1>"
   ]
  },
  {
   "cell_type": "code",
   "execution_count": null,
   "metadata": {},
   "outputs": [],
   "source": [
    "try: np and sqrt\n",
    "except NameError:\n",
    "    print(\"package is importing........\")\n",
    "    import numpy as np\n",
    "    from math import sqrt\n",
    "    print(\"package imported\")\n",
    "else:\n",
    "    print(\"package is already imported\")\n",
    "\n",
    "def cholesky(A):    \n",
    "    n = len(A)\n",
    "    L = np.zeros([n,n])\n",
    "    for i in range(n):\n",
    "        for k in range(i+1):\n",
    "            suma = sum(L[i,j]* L[k,j] for j in range(k))\n",
    "            if (i==k):\n",
    "                if(A[i,i]<suma):\n",
    "                    print(\"Cholskey cannot happen!\")\n",
    "                    return\n",
    "                else:\n",
    "                    L[i,k] = sqrt(A[i,i] - suma)\n",
    "            else:\n",
    "                L[i,k] = (1.0 / L[k,k]* (A[i,k] - suma))\n",
    "    return L \n",
    "\n",
    "def lsolve(l, b):\n",
    "    n = l.shape[0]\n",
    "    y = np.zeros([n])\n",
    "    for i in range(len(l)):\n",
    "        y[i] = (b[i] - np.dot(y,l[i]))/float(l[i][i])\n",
    "    return y\n",
    "\n",
    "def ltsolve(A,b):\n",
    "    n=A.shape[0]\n",
    "    xcomp = np.zeros(n)\n",
    "    for i in range(n-1, -1, -1):\n",
    "        tmp = b[i]\n",
    "        for j in range(n-1, i, -1):\n",
    "            tmp -= xcomp[j]*A[i,j]\n",
    "        xcomp[i] = tmp/A[i,i]\n",
    "    return xcomp"
   ]
  },
  {
   "cell_type": "code",
   "execution_count": null,
   "metadata": {},
   "outputs": [],
   "source": [
    "A = np.matrix(\"4 12 -16; 12 37 -43; -16 -43 98\")\n",
    "b =  np.matrix('3; 13; 4')\n",
    "\n",
    "L = cholesky(A)\n",
    "Lt = np.transpose(L)\n",
    "\n",
    "print(\"A= \")\n",
    "print(A)\n",
    "\n",
    "print(\"L=\")\n",
    "print(L)\n",
    "\n",
    "print(\"Lt=\")\n",
    "print(Lt)"
   ]
  },
  {
   "cell_type": "code",
   "execution_count": null,
   "metadata": {},
   "outputs": [],
   "source": [
    "# LxLt=A\n",
    "#LxLtxX=b\n",
    "#Lxy=b\n",
    "#solving L and b\n",
    "y = lsolve(L,b)\n",
    "print(\"y = \",y)"
   ]
  },
  {
   "cell_type": "code",
   "execution_count": null,
   "metadata": {},
   "outputs": [],
   "source": [
    "#solving Lt and y\n",
    "x = ltsolve(Lt,y)\n",
    "print(\"x=\",x)"
   ]
  }
 ],
 "metadata": {
  "kernelspec": {
   "display_name": "Python 3",
   "language": "python",
   "name": "python3"
  },
  "language_info": {
   "codemirror_mode": {
    "name": "ipython",
    "version": 3
   },
   "file_extension": ".py",
   "mimetype": "text/x-python",
   "name": "python",
   "nbconvert_exporter": "python",
   "pygments_lexer": "ipython3",
   "version": "3.7.3"
  }
 },
 "nbformat": 4,
 "nbformat_minor": 2
}
