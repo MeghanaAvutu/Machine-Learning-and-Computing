{
 "cells": [
  {
   "cell_type": "markdown",
   "metadata": {},
   "source": [
    "<h1>Gauss Elimination</h1>"
   ]
  },
  {
   "cell_type": "code",
   "execution_count": null,
   "metadata": {},
   "outputs": [],
   "source": [
    "try: np\n",
    "except NameError:\n",
    "    print(\"package is importing........\")\n",
    "    import numpy as np\n",
    "    print(\"package imported\")\n",
    "else:\n",
    "    print(\"package is already imported\")\n",
    "\n",
    "\n",
    "def GEPP(A, b):\n",
    "    n = len(A)\n",
    "#     if b.size != n:\n",
    "#         raise ValueError(\"Invalid argument: incompatible sizes between\"+\"A & b.\", b.size, n)\n",
    "    \n",
    "    # Elimination\n",
    "    for k in range(n-1):\n",
    "#         if doPivoting:\n",
    "#             # Pivot\n",
    "#             maxindex = abs(A[k:,k]).argmax() + k\n",
    "# #             print(A[k:,k], abs(A[k:,k]), abs(A[k:,k]).argmax(), k, maxindex)\n",
    "#             if A[maxindex, k] == 0:\n",
    "#                 raise ValueError(\"Matrix is singular.\")\n",
    "#             # Swap\n",
    "#             if maxindex != k:\n",
    "#                 A[[k,maxindex]] = A[[maxindex, k]]\n",
    "#                 b[[k,maxindex]] = b[[maxindex, k]]\n",
    "\n",
    "        #Eliminate\n",
    "        for row in range(k+1, n):\n",
    "            multiplier = A[row,k]/A[k,k]\n",
    "            A[row, k:] = A[row, k:] - multiplier*A[k, k:]\n",
    "            b[row] = b[row] - multiplier*b[k]\n",
    "\n",
    "    # Back Substitution\n",
    "    x = np.zeros(n)\n",
    "    for k in range(n-1, -1, -1):\n",
    "        x[k] = (b[k] - np.dot(A[k,k+1:],x[k+1:]))/A[k,k]\n",
    "        \n",
    "    return x"
   ]
  },
  {
   "cell_type": "code",
   "execution_count": null,
   "metadata": {},
   "outputs": [],
   "source": [
    "A = np.matrix(\"4 12 -16; 12 37 -43; -16 -43 98\")\n",
    "b =  np.matrix('3; 13; 4')\n",
    "# if(A.item(0)==0):\n",
    "#     doPivoting = True\n",
    "# else:\n",
    "#     doPivoting = False\n",
    "GEPP(np.copy(A), np.copy(b))"
   ]
  },
  {
   "cell_type": "markdown",
   "metadata": {},
   "source": [
    "<h1>Gauss Elimination with pivoting</h1>"
   ]
  },
  {
   "cell_type": "code",
   "execution_count": null,
   "metadata": {},
   "outputs": [],
   "source": [
    "try: np\n",
    "except NameError:\n",
    "    print(\"package is importing........\")\n",
    "    import numpy as np\n",
    "    print(\"package imported\")\n",
    "else:\n",
    "    print(\"package is already imported\")\n",
    "\n",
    "\n",
    "def GEPP(A, b):\n",
    "    n = len(A)\n",
    "    if b.size != n:\n",
    "        raise ValueError(\"Invalid argument: incompatible sizes between\"+\"A & b.\", b.size, n)\n",
    "    \n",
    "    # Elimination\n",
    "    for k in range(n-1):\n",
    "        if doPivoting:\n",
    "            # Pivot\n",
    "            maxindex = abs(A[k:,k]).argmax() + k\n",
    "            if A[maxindex, k] == 0:\n",
    "                raise ValueError(\"Matrix is singular.\")\n",
    "            # Swap\n",
    "            if maxindex != k:\n",
    "                A[[k,maxindex]] = A[[maxindex, k]]\n",
    "                b[[k,maxindex]] = b[[maxindex, k]]\n",
    "\n",
    "        #Eliminate\n",
    "        for row in range(k+1, n):\n",
    "            multiplier = A[row,k]/A[k,k]\n",
    "            A[row, k:] = A[row, k:] - multiplier*A[k, k:]\n",
    "            b[row] = b[row] - multiplier*b[k]\n",
    "\n",
    "    # Back Substitution\n",
    "    x = np.zeros(n)\n",
    "    for k in range(n-1, -1, -1):\n",
    "        x[k] = (b[k] - np.dot(A[k,k+1:],x[k+1:]))/A[k,k]\n",
    "        \n",
    "    return x"
   ]
  },
  {
   "cell_type": "code",
   "execution_count": null,
   "metadata": {},
   "outputs": [],
   "source": [
    "A = np.matrix(\"4 12 -16; 12 37 -43; -16 -43 98\")\n",
    "b =  np.matrix('3; 13; 4')\n",
    "if(A.item(0)==0):\n",
    "    doPivoting = True\n",
    "else:\n",
    "    doPivoting = False\n",
    "GEPP(np.copy(A), np.copy(b))"
   ]
  }
 ],
 "metadata": {
  "kernelspec": {
   "display_name": "Python 3",
   "language": "python",
   "name": "python3"
  },
  "language_info": {
   "codemirror_mode": {
    "name": "ipython",
    "version": 3
   },
   "file_extension": ".py",
   "mimetype": "text/x-python",
   "name": "python",
   "nbconvert_exporter": "python",
   "pygments_lexer": "ipython3",
   "version": "3.7.3"
  }
 },
 "nbformat": 4,
 "nbformat_minor": 2
}
