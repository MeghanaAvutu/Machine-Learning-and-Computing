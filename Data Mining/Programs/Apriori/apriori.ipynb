{
 "cells": [
  {
   "cell_type": "markdown",
   "metadata": {},
   "source": [
    "<h1>Apriori</h1>"
   ]
  },
  {
   "cell_type": "code",
   "execution_count": 1,
   "metadata": {},
   "outputs": [],
   "source": [
    "import pandas as pd\n",
    "dataset = pd.read_csv(\"../Datasets/GroceryStoreDataSet.csv\",header=None)"
   ]
  },
  {
   "cell_type": "code",
   "execution_count": 2,
   "metadata": {},
   "outputs": [
    {
     "name": "stderr",
     "output_type": "stream",
     "text": [
      "C:\\Users\\Bharadwaj\\Anaconda3\\lib\\site-packages\\mlxtend\\preprocessing\\onehot.py:66: DeprecationWarning: OnehotTransactions has been deprecated and will be removed in future. Please use TransactionEncoder instead.\n",
      "  warnings.warn(msg, DeprecationWarning)\n"
     ]
    }
   ],
   "source": [
    "'''\n",
    "Preprocessing\n",
    "'''\n",
    "apdataset=[]\n",
    "for i in range(len(dataset)):\n",
    "    datarow = (dataset.iloc[i,0].split(\",\"))\n",
    "    apdataset.append(datarow)\n",
    "\n",
    "from mlxtend.preprocessing import OnehotTransactions\n",
    " \n",
    "oht = OnehotTransactions()\n",
    "oht_ary = oht.fit(apdataset).transform(apdataset)\n",
    "df = pd.DataFrame(oht_ary, columns=oht.columns_)"
   ]
  },
  {
   "cell_type": "code",
   "execution_count": 3,
   "metadata": {},
   "outputs": [
    {
     "name": "stdout",
     "output_type": "stream",
     "text": [
      "Frequent_itemsets:     support              itemsets\n",
      "0      0.35             (BISCUIT)\n",
      "1      0.20           (BOURNVITA)\n",
      "2      0.65               (BREAD)\n",
      "3      0.40              (COFFEE)\n",
      "4      0.30          (CORNFLAKES)\n",
      "5      0.25               (MAGGI)\n",
      "6      0.25                (MILK)\n",
      "7      0.30               (SUGER)\n",
      "8      0.35                 (TEA)\n",
      "9      0.20      (BREAD, BISCUIT)\n",
      "10     0.20         (BREAD, MILK)\n",
      "11     0.20        (BREAD, SUGER)\n",
      "12     0.20          (TEA, BREAD)\n",
      "13     0.20  (CORNFLAKES, COFFEE)\n",
      "14     0.20       (COFFEE, SUGER)\n",
      "15     0.20          (TEA, MAGGI)\n"
     ]
    }
   ],
   "source": [
    "from mlxtend.frequent_patterns import apriori\n",
    "frequent_itemsets = apriori(df, min_support=0.2, use_colnames=True)\n",
    "print (\"Frequent_itemsets:\",frequent_itemsets)"
   ]
  },
  {
   "cell_type": "code",
   "execution_count": 4,
   "metadata": {},
   "outputs": [
    {
     "name": "stdout",
     "output_type": "stream",
     "text": [
      "    antecedents   consequents  antecedent support  consequent support  \\\n",
      "0       (BREAD)        (MILK)                0.65                0.25   \n",
      "1        (MILK)       (BREAD)                0.25                0.65   \n",
      "2  (CORNFLAKES)      (COFFEE)                0.30                0.40   \n",
      "3      (COFFEE)  (CORNFLAKES)                0.40                0.30   \n",
      "4      (COFFEE)       (SUGER)                0.40                0.30   \n",
      "5       (SUGER)      (COFFEE)                0.30                0.40   \n",
      "6         (TEA)       (MAGGI)                0.35                0.25   \n",
      "7       (MAGGI)         (TEA)                0.25                0.35   \n",
      "\n",
      "   support  confidence      lift  leverage  conviction  \n",
      "0      0.2    0.307692  1.230769    0.0375    1.083333  \n",
      "1      0.2    0.800000  1.230769    0.0375    1.750000  \n",
      "2      0.2    0.666667  1.666667    0.0800    1.800000  \n",
      "3      0.2    0.500000  1.666667    0.0800    1.400000  \n",
      "4      0.2    0.500000  1.666667    0.0800    1.400000  \n",
      "5      0.2    0.666667  1.666667    0.0800    1.800000  \n",
      "6      0.2    0.571429  2.285714    0.1125    1.750000  \n",
      "7      0.2    0.800000  2.285714    0.1125    3.250000  \n"
     ]
    }
   ],
   "source": [
    "from mlxtend.frequent_patterns import association_rules\n",
    "association_rules(frequent_itemsets, metric=\"confidence\", min_threshold=0.7)\n",
    "\n",
    "rules = association_rules(frequent_itemsets, metric=\"lift\", min_threshold=1.2)\n",
    "print (rules)"
   ]
  },
  {
   "cell_type": "code",
   "execution_count": null,
   "metadata": {},
   "outputs": [],
   "source": []
  }
 ],
 "metadata": {
  "kernelspec": {
   "display_name": "Python 3",
   "language": "python",
   "name": "python3"
  },
  "language_info": {
   "codemirror_mode": {
    "name": "ipython",
    "version": 3
   },
   "file_extension": ".py",
   "mimetype": "text/x-python",
   "name": "python",
   "nbconvert_exporter": "python",
   "pygments_lexer": "ipython3",
   "version": "3.7.3"
  }
 },
 "nbformat": 4,
 "nbformat_minor": 2
}
