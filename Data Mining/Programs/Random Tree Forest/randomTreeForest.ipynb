{
 "cells": [
  {
   "cell_type": "markdown",
   "metadata": {},
   "source": [
    "<h1>Random Tree Forest</h1>"
   ]
  },
  {
   "cell_type": "code",
   "execution_count": 8,
   "metadata": {},
   "outputs": [],
   "source": [
    "import pandas as pd\n",
    "import numpy as np\n",
    "from sklearn.decomposition import PCA\n",
    "import rrcf\n",
    "\n",
    "student_data = pd.read_csv(\"../Datasets/turkiye-student-evaluation_generic.csv\")\n",
    "df = student_data.iloc[:,5:33].head(20)\n",
    "\n",
    "# Transformation of data through PCA\n",
    "pca = PCA(n_components = 2, random_state=1)\n",
    "df_pca = pca.fit_transform(df)\n",
    "\n",
    "r_tree = rrcf.RCTree(df_pca)"
   ]
  },
  {
   "cell_type": "code",
   "execution_count": 9,
   "metadata": {},
   "outputs": [
    {
     "data": {
      "text/plain": [
       "─+\n",
       " ├──(6)\n",
       " └───+\n",
       "     ├───+\n",
       "     │   ├───+\n",
       "     │   │   ├───+\n",
       "     │   │   │   ├──(0)\n",
       "     │   │   │   └──(1)\n",
       "     │   │   └───+\n",
       "     │   │       ├──(2)\n",
       "     │   │       └──(3)\n",
       "     │   └──(4)\n",
       "     └──(5)"
      ]
     },
     "execution_count": 9,
     "metadata": {},
     "output_type": "execute_result"
    }
   ],
   "source": [
    "r_tree"
   ]
  },
  {
   "cell_type": "code",
   "execution_count": null,
   "metadata": {},
   "outputs": [],
   "source": []
  }
 ],
 "metadata": {
  "kernelspec": {
   "display_name": "Python 3",
   "language": "python",
   "name": "python3"
  },
  "language_info": {
   "codemirror_mode": {
    "name": "ipython",
    "version": 3
   },
   "file_extension": ".py",
   "mimetype": "text/x-python",
   "name": "python",
   "nbconvert_exporter": "python",
   "pygments_lexer": "ipython3",
   "version": "3.7.3"
  }
 },
 "nbformat": 4,
 "nbformat_minor": 2
}
