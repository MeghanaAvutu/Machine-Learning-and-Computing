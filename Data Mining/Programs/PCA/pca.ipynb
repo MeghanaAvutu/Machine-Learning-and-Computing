{
 "cells": [
  {
   "cell_type": "markdown",
   "metadata": {},
   "source": [
    "<h1>PCA</h1>"
   ]
  },
  {
   "cell_type": "code",
   "execution_count": 43,
   "metadata": {},
   "outputs": [],
   "source": [
    "import pandas as pd\n",
    "import re\n",
    "import matplotlib.pyplot as plt\n",
    "\n",
    "fifa = pd.read_csv(\"../Datasets/fifa_data.csv\",index_col=False)\n",
    "\n",
    "skills = fifa.loc[fifa[\"Club\"] == \"FC Barcelona\"].reset_index()\n",
    "skills = skills.loc[:,\"Crossing\":\"GKReflexes\"]\n",
    "\n",
    "overall = fifa.loc[fifa[\"Club\"] == \"FC Barcelona\"][\"Overall\"].reset_index()\n",
    "overall = overall[\"Overall\"]\n",
    "    \n",
    "from sklearn.preprocessing import StandardScaler\n",
    "# x = skills\n",
    "skills = StandardScaler().fit_transform(skills)\n",
    "# y = overall"
   ]
  },
  {
   "cell_type": "code",
   "execution_count": 44,
   "metadata": {},
   "outputs": [],
   "source": [
    "from sklearn.decomposition import PCA\n",
    "pca = PCA(n_components=2)\n",
    "principalComponents = pca.fit_transform(skills)\n",
    "principalDf = pd.DataFrame(data = principalComponents\n",
    "             , columns = ['principal component 1', 'principal component 2'])"
   ]
  },
  {
   "cell_type": "code",
   "execution_count": 48,
   "metadata": {},
   "outputs": [
    {
     "data": {
      "text/plain": [
       "<matplotlib.collections.PathCollection at 0x1f70d273278>"
      ]
     },
     "execution_count": 48,
     "metadata": {},
     "output_type": "execute_result"
    },
    {
     "data": {
      "image/png": "[encoded data removed]",
      "text/plain": [
       "<Figure size 432x288 with 1 Axes>"
      ]
     },
     "metadata": {
      "needs_background": "light"
     },
     "output_type": "display_data"
    }
   ],
   "source": [
    "from matplotlib.colors import ListedColormap\n",
    "cmap_new = ListedColormap(['red','blue','green'])\n",
    "plt.scatter(principalDf['principal component 1'],principalDf['principal component 2'],c = y,cmap=cmap_new)"
   ]
  },
  {
   "cell_type": "code",
   "execution_count": null,
   "metadata": {},
   "outputs": [],
   "source": []
  }
 ],
 "metadata": {
  "kernelspec": {
   "display_name": "Python 3",
   "language": "python",
   "name": "python3"
  },
  "language_info": {
   "codemirror_mode": {
    "name": "ipython",
    "version": 3
   },
   "file_extension": ".py",
   "mimetype": "text/x-python",
   "name": "python",
   "nbconvert_exporter": "python",
   "pygments_lexer": "ipython3",
   "version": "3.7.3"
  }
 },
 "nbformat": 4,
 "nbformat_minor": 2
}
