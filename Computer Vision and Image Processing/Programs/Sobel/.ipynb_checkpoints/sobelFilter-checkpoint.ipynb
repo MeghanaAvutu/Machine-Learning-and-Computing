{
 "cells": [
  {
   "cell_type": "markdown",
   "metadata": {},
   "source": [
    "<h1>Sobel</h1>"
   ]
  },
  {
   "cell_type": "code",
   "execution_count": 1,
   "metadata": {},
   "outputs": [
    {
     "name": "stdout",
     "output_type": "stream",
     "text": [
      "Sobel X Image saved!\n",
      "Sobel Y Image saved!\n"
     ]
    }
   ],
   "source": [
    "# Checking if packages are imported or not, import if not imported\n",
    "try:\n",
    "    cv2,np\n",
    "except NameError:\n",
    "    import cv2\n",
    "    import numpy as np\n",
    "else:\n",
    "    print(\"Packages are already imported!\")\n",
    "\n",
    "# Reading Image\n",
    "img = cv2.imread('../images/question.jpg',0)\n",
    "\n",
    "\n",
    "\n",
    "'''\n",
    "Sobel X\n",
    "'''\n",
    "sobelx = cv2.Sobel(img,cv2.CV_64F,1,0,ksize=5)\n",
    "\n",
    "# Sobel-X filter Image\n",
    "res = np.hstack((img,sobelx))\n",
    "cv2.imshow(\"Sobel X\",res)\n",
    "cv2.waitKey(0)\n",
    "\n",
    "cv2.destroyAllWindows()\n",
    "\n",
    "# saving Sobel-X image\n",
    "sobx = cv2.imwrite('../images/outputs/sobelxa.png',res)\n",
    "if(sobx==True):\n",
    "    print(\"Sobel X Image saved!\")\n",
    "else:\n",
    "    print(\"Error Occured!\")\n",
    "\n",
    "\n",
    "\n",
    "'''\n",
    "Sobel Y\n",
    "'''\n",
    "sobely = cv2.Sobel(img,cv2.CV_64F,0,1,ksize=5)\n",
    "\n",
    "# Sobel-Y filter Image\n",
    "res = np.hstack((img,sobely))\n",
    "cv2.imshow(\"Sobel Y\",res)\n",
    "cv2.waitKey(0)\n",
    "\n",
    "cv2.destroyAllWindows()\n",
    "\n",
    "# saving Sobel-Y image\n",
    "soby = cv2.imwrite('../images/outputs/sobelya.png',res)\n",
    "if(soby==True):\n",
    "    print(\"Sobel Y Image saved!\")\n",
    "else:\n",
    "    print(\"Error Occured!\")"
   ]
  },
  {
   "cell_type": "code",
   "execution_count": null,
   "metadata": {},
   "outputs": [],
   "source": []
  }
 ],
 "metadata": {
  "kernelspec": {
   "display_name": "Python 3",
   "language": "python",
   "name": "python3"
  },
  "language_info": {
   "codemirror_mode": {
    "name": "ipython",
    "version": 3
   },
   "file_extension": ".py",
   "mimetype": "text/x-python",
   "name": "python",
   "nbconvert_exporter": "python",
   "pygments_lexer": "ipython3",
   "version": "3.7.3"
  }
 },
 "nbformat": 4,
 "nbformat_minor": 2
}
