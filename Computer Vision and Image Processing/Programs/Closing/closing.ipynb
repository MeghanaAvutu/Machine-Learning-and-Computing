{
 "cells": [
  {
   "cell_type": "markdown",
   "metadata": {},
   "source": [
    "<h1>Closing</h1>"
   ]
  },
  {
   "cell_type": "code",
   "execution_count": 1,
   "metadata": {},
   "outputs": [],
   "source": [
    "# Checking if packages are imported or not, import if not imported\n",
    "try:\n",
    "    cv2,np\n",
    "except NameError:\n",
    "    import cv2\n",
    "    import numpy as np\n",
    "else:\n",
    "    print(\"Packages are already imported!\")\n",
    "\n",
    "\n",
    "img = cv2.imread('../images/fingerprinti.png',0)\n",
    "\n",
    "\n",
    "\n",
    "'''\n",
    "Closing\n",
    "'''\n",
    "kernel3 = np.ones((3,3),np.uint8)\n",
    "close3 = cv2.morphologyEx(img, cv2.MORPH_CLOSE, kernel3)\n",
    "\n",
    "res = np.hstack((img,close3))\n",
    "cv2.imshow(\"close 3x3\",res)\n",
    "cv2.waitKey(0)\n",
    "\n",
    "cv2.imwrite('../images/outputs/closefingerprint3x3.png',res)\n",
    "\n",
    "cv2.destroyAllWindows()"
   ]
  },
  {
   "cell_type": "code",
   "execution_count": null,
   "metadata": {},
   "outputs": [],
   "source": []
  }
 ],
 "metadata": {
  "kernelspec": {
   "display_name": "Python 3",
   "language": "python",
   "name": "python3"
  },
  "language_info": {
   "codemirror_mode": {
    "name": "ipython",
    "version": 3
   },
   "file_extension": ".py",
   "mimetype": "text/x-python",
   "name": "python",
   "nbconvert_exporter": "python",
   "pygments_lexer": "ipython3",
   "version": "3.7.3"
  }
 },
 "nbformat": 4,
 "nbformat_minor": 2
}
