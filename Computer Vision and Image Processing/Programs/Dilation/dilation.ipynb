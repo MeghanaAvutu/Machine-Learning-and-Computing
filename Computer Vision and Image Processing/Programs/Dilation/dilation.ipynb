{
 "cells": [
  {
   "cell_type": "markdown",
   "metadata": {},
   "source": [
    "<h1>Dilation</h1>"
   ]
  },
  {
   "cell_type": "code",
   "execution_count": 1,
   "metadata": {},
   "outputs": [
    {
     "data": {
      "text/plain": [
       "True"
      ]
     },
     "execution_count": 1,
     "metadata": {},
     "output_type": "execute_result"
    }
   ],
   "source": [
    "# Checking if packages are imported or not, import if not imported\n",
    "try:\n",
    "    cv2,np\n",
    "except NameError:\n",
    "    import cv2\n",
    "    import numpy as np\n",
    "else:\n",
    "    print(\"Packages are already imported!\")\n",
    "\n",
    "\n",
    "img = cv2.imread('../images/fingerprinti.png',0)\n",
    "\n",
    "\n",
    "\n",
    "'''\n",
    "Dilation 3x3\n",
    "'''\n",
    "kernel3 = np.ones((3,3),np.uint8)\n",
    "dilation3 = cv2.dilate(img,kernel3,iterations = 1)\n",
    "\n",
    "res = np.hstack((img,dilation3))\n",
    "cv2.imshow(\"Dilation 3x3\",res)\n",
    "cv2.waitKey(0)\n",
    "\n",
    "cv2.destroyAllWindows()\n",
    "\n",
    "cv2.imwrite('../images/outputs/dilationletterj3x3.png',res)\n",
    "\n",
    "\n",
    "\n",
    "\n",
    "'''\n",
    "Dilation 5x5\n",
    "'''\n",
    "kernel5 = np.ones((5,5),np.uint8)\n",
    "dilation5 = cv2.dilate(img,kernel5,iterations = 1)\n",
    "\n",
    "res = np.hstack((img,dilation5))\n",
    "cv2.imshow(\"Dilation 5x5\",res)\n",
    "cv2.waitKey(0)\n",
    "\n",
    "cv2.destroyAllWindows()\n",
    "\n",
    "cv2.imwrite('../images/outputs/dilationletterj5x5.png',res)"
   ]
  },
  {
   "cell_type": "code",
   "execution_count": null,
   "metadata": {},
   "outputs": [],
   "source": []
  }
 ],
 "metadata": {
  "kernelspec": {
   "display_name": "Python 3",
   "language": "python",
   "name": "python3"
  },
  "language_info": {
   "codemirror_mode": {
    "name": "ipython",
    "version": 3
   },
   "file_extension": ".py",
   "mimetype": "text/x-python",
   "name": "python",
   "nbconvert_exporter": "python",
   "pygments_lexer": "ipython3",
   "version": "3.7.3"
  }
 },
 "nbformat": 4,
 "nbformat_minor": 2
}
