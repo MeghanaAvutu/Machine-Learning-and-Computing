{
 "cells": [
  {
   "cell_type": "markdown",
   "metadata": {},
   "source": [
    "<h1>Opening</h1>"
   ]
  },
  {
   "cell_type": "code",
   "execution_count": 1,
   "metadata": {},
   "outputs": [
    {
     "name": "stdout",
     "output_type": "stream",
     "text": [
      "Same images\n"
     ]
    },
    {
     "data": {
      "text/plain": [
       "True"
      ]
     },
     "execution_count": 1,
     "metadata": {},
     "output_type": "execute_result"
    }
   ],
   "source": [
    "# Checking if packages are imported or not, import if not imported\n",
    "try:\n",
    "    cv2,np\n",
    "except NameError:\n",
    "    import cv2\n",
    "    import numpy as np\n",
    "else:\n",
    "    print(\"Packages are already imported!\")\n",
    "\n",
    "\n",
    "img = cv2.imread('../images/fingerprinti.png',0)\n",
    "\n",
    "\n",
    "\n",
    "\n",
    "'''\n",
    "Opening = dilation(erosion(img))\n",
    "'''\n",
    "\n",
    "kernel3 = np.ones((3,3),np.uint8)\n",
    "erosion3 = cv2.erode(img,kernel3,iterations = 1)\n",
    "\n",
    "res1 = np.hstack((img,erosion3))\n",
    "# cv2.imshow(\"Erosion\",erosion3)\n",
    "# cv2.waitKey(0)\n",
    "open3 = cv2.dilate(erosion3,kernel3,iterations = 1)\n",
    "pgopen3 = cv2.morphologyEx(img, cv2.MORPH_OPEN, kernel3)\n",
    "\n",
    "res2 = np.hstack((open3,pgopen3))\n",
    "res = np.vstack((res1,res2))\n",
    "cv2.imshow(\"dilation(Erosion)\",res)\n",
    "cv2.waitKey(0)\n",
    "\n",
    "cv2.destroyAllWindows()\n",
    "\n",
    "if(np.array_equal(pgopen3,open3)):\n",
    "    print(\"Same images\")\n",
    "else:\n",
    "    print(\"Different Images\")\n",
    "\n",
    "cv2.imwrite('../images/outputs/openfingerprint3x3.png',res)"
   ]
  },
  {
   "cell_type": "code",
   "execution_count": null,
   "metadata": {},
   "outputs": [],
   "source": []
  }
 ],
 "metadata": {
  "kernelspec": {
   "display_name": "Python 3",
   "language": "python",
   "name": "python3"
  },
  "language_info": {
   "codemirror_mode": {
    "name": "ipython",
    "version": 3
   },
   "file_extension": ".py",
   "mimetype": "text/x-python",
   "name": "python",
   "nbconvert_exporter": "python",
   "pygments_lexer": "ipython3",
   "version": "3.7.3"
  }
 },
 "nbformat": 4,
 "nbformat_minor": 2
}
