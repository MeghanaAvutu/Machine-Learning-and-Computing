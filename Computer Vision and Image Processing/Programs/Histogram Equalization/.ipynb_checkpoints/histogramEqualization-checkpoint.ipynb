{
 "cells": [
  {
   "cell_type": "markdown",
   "metadata": {},
   "source": [
    "<h1>Histogram Equalization</h1>"
   ]
  },
  {
   "cell_type": "code",
   "execution_count": 1,
   "metadata": {},
   "outputs": [
    {
     "name": "stdout",
     "output_type": "stream",
     "text": [
      "Histogram Equilized Image saved!\n"
     ]
    }
   ],
   "source": [
    "# Checking if packages are imported or not, import if not imported\n",
    "try:\n",
    "    cv2,np\n",
    "except NameError:\n",
    "    import cv2\n",
    "    import numpy as np\n",
    "else:\n",
    "    print(\"Packages are already imported!\")\n",
    "\n",
    "#Reading Image\n",
    "img = cv2.imread('../images/car.png')\n",
    "\n",
    "\n",
    "\n",
    "'''\n",
    "Histogram Equilization\n",
    "'''\n",
    "img = cv2.cvtColor(img, cv2.COLOR_BGR2GRAY)\n",
    "\n",
    "# Applying Histogram Equilization\n",
    "histogram_equ = cv2.equalizeHist(img)\n",
    "\n",
    "# Histogram Equilized Image\n",
    "res=np.vstack((img,histogram_equ))\n",
    "cv2.imshow(\"Histogram Equilization\",res)\n",
    "cv2.waitKey(0)\n",
    "\n",
    "cv2.destroyAllWindows()\n",
    "\n",
    "# saving Histogram Equilized image\n",
    "histeq = cv2.imwrite('../images/outputs/histogramequilizedcar.png',res)\n",
    "if(histeq==True):\n",
    "    print(\"Histogram Equilized Image saved!\")\n",
    "else:\n",
    "    print(\"Error Occured!\")"
   ]
  },
  {
   "cell_type": "code",
   "execution_count": null,
   "metadata": {},
   "outputs": [],
   "source": []
  }
 ],
 "metadata": {
  "kernelspec": {
   "display_name": "Python 3",
   "language": "python",
   "name": "python3"
  },
  "language_info": {
   "codemirror_mode": {
    "name": "ipython",
    "version": 3
   },
   "file_extension": ".py",
   "mimetype": "text/x-python",
   "name": "python",
   "nbconvert_exporter": "python",
   "pygments_lexer": "ipython3",
   "version": "3.7.3"
  }
 },
 "nbformat": 4,
 "nbformat_minor": 2
}
