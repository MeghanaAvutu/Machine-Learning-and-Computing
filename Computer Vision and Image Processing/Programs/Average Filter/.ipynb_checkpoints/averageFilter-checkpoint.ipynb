{
 "cells": [
  {
   "cell_type": "markdown",
   "metadata": {},
   "source": [
    "<h1>Average Filter</h1>"
   ]
  },
  {
   "cell_type": "code",
   "execution_count": 1,
   "metadata": {},
   "outputs": [
    {
     "name": "stdout",
     "output_type": "stream",
     "text": [
      "3x3 filtered Image saved!\n",
      "5x5 filtered Image saved!\n"
     ]
    }
   ],
   "source": [
    "# Checking if packages are imported or not, import if not imported\n",
    "try:\n",
    "    cv2,np\n",
    "except NameError:\n",
    "    import cv2\n",
    "    import numpy as np\n",
    "else:\n",
    "    print(\"Packages are already imported!\")\n",
    "\n",
    "#Reading Image\n",
    "img = cv2.imread('../images/oldman.jpg')\n",
    "\n",
    "\n",
    "\n",
    "'''\n",
    "Average 3x3 filter\n",
    "    '''\n",
    "kernel3 = np.ones((3,3),np.float32)/9\n",
    "average_filter3 = cv2.filter2D(img,-1,kernel3)\n",
    "\n",
    "# 3x3 average Filtered Image\n",
    "res = np.hstack((img,average_filter3))\n",
    "cv2.imshow(\"Average Filter 3x3\",res)\n",
    "cv2.waitKey(0)\n",
    "\n",
    "cv2.destroyAllWindows()\n",
    "\n",
    "# saving 3x3 filtered image\n",
    "avgf3 = cv2.imwrite('../images/outputs/averagefilteroldman3x3.png',res)\n",
    "if(avgf3==True):\n",
    "    print(\"3x3 filtered Image saved!\")\n",
    "else:\n",
    "    print(\"Error Occured!\")\n",
    "\n",
    "\n",
    "\n",
    "'''\n",
    "Average 5x5 filter\n",
    "    '''\n",
    "kernel5 = np.ones((5,5),np.float32)/25\n",
    "average_filter5 = cv2.filter2D(img,-1,kernel5)\n",
    "  \n",
    "# 5x5 average Filtered Image\n",
    "res = np.hstack((img,average_filter5))\n",
    "cv2.imshow(\"Average Filter 5x5\",res)\n",
    "cv2.waitKey(0)\n",
    "\n",
    "cv2.destroyAllWindows()\n",
    "\n",
    "# saving 5x5 filtered image\n",
    "avgf5 = cv2.imwrite('../images/outputs/avaragefilteroldmanj5x5.png',res)\n",
    "if(avgf5==True):\n",
    "    print(\"5x5 filtered Image saved!\")\n",
    "else:\n",
    "    print(\"Error Occured!\")"
   ]
  },
  {
   "cell_type": "code",
   "execution_count": null,
   "metadata": {},
   "outputs": [],
   "source": []
  }
 ],
 "metadata": {
  "kernelspec": {
   "display_name": "Python 3",
   "language": "python",
   "name": "python3"
  },
  "language_info": {
   "codemirror_mode": {
    "name": "ipython",
    "version": 3
   },
   "file_extension": ".py",
   "mimetype": "text/x-python",
   "name": "python",
   "nbconvert_exporter": "python",
   "pygments_lexer": "ipython3",
   "version": "3.7.3"
  }
 },
 "nbformat": 4,
 "nbformat_minor": 2
}
