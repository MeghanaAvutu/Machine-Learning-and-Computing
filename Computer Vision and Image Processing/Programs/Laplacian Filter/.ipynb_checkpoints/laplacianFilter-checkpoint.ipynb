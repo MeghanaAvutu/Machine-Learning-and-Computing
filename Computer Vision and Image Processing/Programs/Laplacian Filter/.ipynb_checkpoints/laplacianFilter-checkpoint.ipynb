{
 "cells": [
  {
   "cell_type": "markdown",
   "metadata": {},
   "source": [
    "<h1>Laplacian Filter</h1>"
   ]
  },
  {
   "cell_type": "code",
   "execution_count": 1,
   "metadata": {},
   "outputs": [
    {
     "name": "stdout",
     "output_type": "stream",
     "text": [
      "Laplacian Filtered Image saved!\n"
     ]
    }
   ],
   "source": [
    "# Checking if packages are imported or not, import if not imported\n",
    "try:\n",
    "    cv2,np\n",
    "except NameError:\n",
    "    import cv2\n",
    "    import numpy as np\n",
    "else:\n",
    "    print(\"Packages are already imported!\")\n",
    "\n",
    "# Reading Image\n",
    "img = cv2.imread('../images/moon.jpg')\n",
    "# Resizing the image\n",
    "dim = (500, 500)\n",
    "img = cv2.resize(img, dim, interpolation = cv2.INTER_AREA)\n",
    "\n",
    "original_img = cv2.cvtColor(img, cv2.COLOR_BGR2GRAY)\n",
    "\n",
    "\n",
    "'''\n",
    "Laplacian Filter\n",
    "'''\n",
    "# Step1: Applying Guassian Filter\n",
    "gauss_filter = cv2.GaussianBlur(img,(5,5),0)\n",
    "\n",
    "\n",
    "# Step2: Convert the original image into greyscale\n",
    "img_grey = cv2.cvtColor(gauss_filter, cv2.COLOR_BGR2GRAY)\n",
    "\n",
    "\n",
    "# Step3: Apply Laplace function\n",
    "ddepth = cv2.CV_16S\n",
    "kernel_size = 3\n",
    "laplacian_func = cv2.Laplacian(img_grey, ddepth, ksize=kernel_size)\n",
    "\n",
    "\n",
    "# Step4: converting back to uint8\n",
    "laplacian_filter = cv2.convertScaleAbs(laplacian_func)\n",
    "\n",
    "\n",
    "# Laplacian filter Image\n",
    "# Resizing the image\n",
    "res = np.hstack((original_img,laplacian_filter))\n",
    "cv2.imshow(\"Laplacian Filter\",res)\n",
    "cv2.waitKey(0)\n",
    "\n",
    "cv2.destroyAllWindows()\n",
    "\n",
    "# saving Histogram Equilized image\n",
    "lap = cv2.imwrite('../images/outputs/laplacianfiltermoon.png',res)\n",
    "if(lap==True):\n",
    "    print(\"Laplacian Filtered Image saved!\")\n",
    "else:\n",
    "    print(\"Error Occured!\")"
   ]
  },
  {
   "cell_type": "code",
   "execution_count": null,
   "metadata": {},
   "outputs": [],
   "source": []
  }
 ],
 "metadata": {
  "kernelspec": {
   "display_name": "Python 3",
   "language": "python",
   "name": "python3"
  },
  "language_info": {
   "codemirror_mode": {
    "name": "ipython",
    "version": 3
   },
   "file_extension": ".py",
   "mimetype": "text/x-python",
   "name": "python",
   "nbconvert_exporter": "python",
   "pygments_lexer": "ipython3",
   "version": "3.7.3"
  }
 },
 "nbformat": 4,
 "nbformat_minor": 2
}
