{
 "cells": [
  {
   "cell_type": "markdown",
   "metadata": {},
   "source": [
    "<h1>Weighted Average Filter</h1>"
   ]
  },
  {
   "cell_type": "code",
   "execution_count": 2,
   "metadata": {},
   "outputs": [
    {
     "name": "stdout",
     "output_type": "stream",
     "text": [
      "Packages are already imported!\n",
      "weighted Average filtered Image saved!\n"
     ]
    }
   ],
   "source": [
    "# Checking if packages are imported or not, import if not imported\n",
    "try:\n",
    "    cv2,np\n",
    "except NameError:\n",
    "    import cv2\n",
    "    import numpy as np\n",
    "else:\n",
    "    print(\"Packages are already imported!\")\n",
    "\n",
    "#Reading Image\n",
    "img = cv2.imread('../images/oldman.jpg')\n",
    "\n",
    "\n",
    "'''\n",
    "weighted Average filter\n",
    "    '''\n",
    "# Applying weighted Filter\n",
    "weighted_kernel = np.matrix('1 2 1; 2 4 2; 1 2 1')/16\n",
    "weighted_average_filter = cv2.filter2D(img,-1,weighted_kernel)\n",
    "\n",
    "\n",
    "# weighted average Filtered Image\n",
    "res = np.hstack((img,weighted_average_filter))\n",
    "cv2.imshow(\"Weighted Average Filter\",res)\n",
    "cv2.waitKey(0)\n",
    "\n",
    "cv2.destroyAllWindows()\n",
    "\n",
    "# saving weighted filtered image\n",
    "weighted_avgf3 = cv2.imwrite('../images/outputs/weightedaveragefilteroldman.png',res)\n",
    "if(weighted_avgf3==True):\n",
    "    print(\"weighted Average filtered Image saved!\")\n",
    "else:\n",
    "    print(\"Error Occured!\")"
   ]
  },
  {
   "cell_type": "code",
   "execution_count": null,
   "metadata": {},
   "outputs": [],
   "source": []
  }
 ],
 "metadata": {
  "kernelspec": {
   "display_name": "Python 3",
   "language": "python",
   "name": "python3"
  },
  "language_info": {
   "codemirror_mode": {
    "name": "ipython",
    "version": 3
   },
   "file_extension": ".py",
   "mimetype": "text/x-python",
   "name": "python",
   "nbconvert_exporter": "python",
   "pygments_lexer": "ipython3",
   "version": "3.7.3"
  }
 },
 "nbformat": 4,
 "nbformat_minor": 2
}
